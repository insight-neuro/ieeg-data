{
 "cells": [
  {
   "cell_type": "code",
   "execution_count": 1,
   "id": "3d91d662",
   "metadata": {},
   "outputs": [
    {
     "name": "stdout",
     "output_type": "stream",
     "text": [
      "Loaded 1920 triggers from DET36A2 and 130 triggers from behavioral task\n"
     ]
    }
   ],
   "source": [
    "import numpy as np\n",
    "import json\n",
    "import glob\n",
    "\n",
    "from neo.io import BlackrockIO\n",
    "import os, glob\n",
    "# Get all files ending with 'ccf' in current directory\n",
    "session_name = os.path.splitext(glob.glob('*.ccf')[0])[0]\n",
    "blackrock_io = BlackrockIO(filename=f'{session_name}-001.ns5')\n",
    "blackrock_io.parse_header()\n",
    "sampling_rate = blackrock_io.header['signal_channels']['sampling_rate'][0]\n",
    "\n",
    "triggers_DET36A2 = np.load(\"triggers_DET36A2.npy\") / sampling_rate\n",
    "\n",
    "trial_data_filename = max(glob.glob('trial_data/events/*.json')) # latest trial data file\n",
    "with open(trial_data_filename, \"r\") as f:\n",
    "    trial_events = json.load(f)\n",
    "\n",
    "    application_start_time = trial_events[0]['time']\n",
    "\n",
    "    trial_events_DET36A2 = [x for x in trial_events if x['type'] == 'application_start' or x['type'] == 'show_stimulus']\n",
    "    triggers_DET36A2_task = np.array([x['time'] for x in trial_events_DET36A2])\n",
    "\n",
    "    trial_events_behavioral = [x for x in trial_events if x['type'] == 'mouse_click']\n",
    "    triggers_behavioral_task = np.array([x['time'] for x in trial_events_behavioral])\n",
    "\n",
    "with open(f'trial_data/template.json', \"r\") as f:\n",
    "    template = json.load(f)\n",
    "\n",
    "# Remove the first trigger from triggers_DET36A2_task because it is \"application_start\" and is before the images start flowing\n",
    "triggers_DET36A2_task = triggers_DET36A2_task[1:]\n",
    "triggers_DET36A2 = triggers_DET36A2[1:]\n",
    "trial_events_DET36A2 = trial_events_DET36A2[1:]\n",
    "\n",
    "# Align the triggers to the mean of the other triggers\n",
    "absolute_timing_offset = triggers_DET36A2_task.mean() - triggers_DET36A2.mean()\n",
    "triggers_DET36A2_task = triggers_DET36A2_task - absolute_timing_offset\n",
    "triggers_behavioral_task = triggers_behavioral_task - absolute_timing_offset\n",
    "\n",
    "if len(triggers_DET36A2) != len(triggers_DET36A2_task):\n",
    "    print(f\"Warning: Number of triggers from DET36A2 and DET36A2_task are different: {len(triggers_DET36A2)} and {len(triggers_DET36A2_task)}\")\n",
    "\n",
    "print(f\"Loaded {len(triggers_DET36A2)} triggers from DET36A2 and {len(triggers_behavioral_task)} triggers from behavioral task\")"
   ]
  },
  {
   "cell_type": "code",
   "execution_count": 2,
   "id": "ca0e69a2",
   "metadata": {},
   "outputs": [
    {
     "data": {
      "image/png": "[encoded data removed]",
      "text/plain": [
       "<Figure size 600x300 with 1 Axes>"
      ]
     },
     "metadata": {},
     "output_type": "display_data"
    }
   ],
   "source": [
    "timing_differences = (triggers_DET36A2_task - triggers_DET36A2) * 1000  # convert to milliseconds\n",
    "\n",
    "display_range = 50 # in ms\n",
    "if (np.abs(timing_differences).any() > display_range):\n",
    "    print(\"Warning: Some timing differences are greater than the display range:\")\n",
    "    print(timing_differences[np.abs(timing_differences) > display_range])\n",
    "    display_range = np.abs(timing_differences).max()\n",
    "\n",
    "import matplotlib.pyplot as plt\n",
    "plt.figure(figsize=(6, 3))\n",
    "plt.hist(timing_differences, bins=50, range=(-display_range, display_range), color='blue')  # range converted to ms\n",
    "plt.xlabel('Offset (ms)')\n",
    "plt.ylabel('Number of triggers')\n",
    "plt.title('Timing differences between DET36A2 and task triggers')\n",
    "plt.tight_layout()\n",
    "plt.show()\n"
   ]
  },
  {
   "cell_type": "code",
   "execution_count": 3,
   "id": "e325e683",
   "metadata": {},
   "outputs": [
    {
     "data": {
      "image/png": "[encoded data removed]",
      "text/plain": [
       "<Figure size 1200x150 with 1 Axes>"
      ]
     },
     "metadata": {},
     "output_type": "display_data"
    }
   ],
   "source": [
    "import matplotlib.pyplot as plt\n",
    "\n",
    "plt.figure(figsize=(12, 1.5))\n",
    "# Create dummy lines for legend\n",
    "plt.plot([], [], color='black', linestyle='-', linewidth=1, label='Photoresistor Triggers')\n",
    "plt.plot([], [], color='blue', linestyle='-', linewidth=2, label='Behavioral Triggers')\n",
    "\n",
    "for trigger in triggers_DET36A2:\n",
    "    plt.axvline(x=trigger, color='black', linestyle='-', linewidth=1)\n",
    "\n",
    "for trigger in triggers_behavioral_task:\n",
    "    plt.axvline(x=trigger, color='blue', linestyle='-', linewidth=2)\n",
    "\n",
    "plt.xlabel('Time (s)')\n",
    "plt.yticks([])  # Remove y-axis\n",
    "plt.ylim(0, max(max(triggers_DET36A2), max(triggers_behavioral_task)))\n",
    "plt.title('Trigger Timeline')\n",
    "plt.gca().spines['top'].set_visible(False)\n",
    "plt.gca().spines['right'].set_visible(False)\n",
    "plt.gca().spines['left'].set_visible(False)\n",
    "plt.gca().spines['bottom'].set_visible(False)\n",
    "plt.legend(bbox_to_anchor=(0., 1.02, 1., .102), loc='lower right', ncol=2)\n",
    "plt.tight_layout()\n",
    "plt.show()"
   ]
  },
  {
   "cell_type": "code",
   "execution_count": 4,
   "id": "d3f979dd",
   "metadata": {},
   "outputs": [
    {
     "name": "stdout",
     "output_type": "stream",
     "text": [
      "images =  IrregularTimeSeries(\n",
      "  timestamps=[1920],\n",
      "  stimulus_ids=[1920]\n",
      ")\n"
     ]
    }
   ],
   "source": [
    "from temporaldata import IrregularTimeSeries\n",
    "import h5py\n",
    "\n",
    "# Grab the image ids from the template, accounting for repeated frames\n",
    "all_frames = [str(x) for x in template['framedata']]\n",
    "image_ids = np.zeros(len(triggers_DET36A2))\n",
    "for trial_event_i, trial_event in enumerate(trial_events_DET36A2):\n",
    "    image_i = trial_event['meta']['image_i']\n",
    "    frame = all_frames[image_i]\n",
    "    image_i = all_frames.index(frame) # get the first index of the frame\n",
    "    image_ids[trial_event_i] = image_i\n",
    "\n",
    "images = IrregularTimeSeries(\n",
    "    timestamps = triggers_DET36A2,  # When stimuli were shown. (n_stimuli,)\n",
    "    stimulus_ids = image_ids,  # Image identifiers\n",
    "    timekeys = ['timestamps'],  # Only timestamps should be adjusted during operations\n",
    "    domain = 'auto'\n",
    ")\n",
    "with h5py.File(\"images.h5\", \"w\") as f:\n",
    "    images.to_hdf5(f)\n",
    "print(\"images = \", images)\n"
   ]
  },
  {
   "cell_type": "code",
   "execution_count": 5,
   "id": "0c106f10",
   "metadata": {},
   "outputs": [
    {
     "name": "stdout",
     "output_type": "stream",
     "text": [
      "triggers =  IrregularTimeSeries(\n",
      "  timestamps=[2050],\n",
      "  trigger_types=[2050],\n",
      "  trigger_notes=[2050]\n",
      ")\n"
     ]
    }
   ],
   "source": [
    "trigger_timestamps = np.concatenate([triggers_DET36A2, triggers_behavioral_task])\n",
    "trigger_types = np.array([x['type'] for x in trial_events_DET36A2] + [x['type'] for x in trial_events_behavioral])\n",
    "trigger_notes = np.array([str(x['meta']) for x in trial_events_DET36A2] + [str(x['meta']) for x in trial_events_behavioral])\n",
    "\n",
    "sort_order = np.argsort(trigger_timestamps)\n",
    "trigger_timestamps = trigger_timestamps[sort_order]\n",
    "trigger_types = trigger_types[sort_order]\n",
    "trigger_notes = trigger_notes[sort_order]\n",
    "\n",
    "triggers = IrregularTimeSeries(\n",
    "    timestamps = trigger_timestamps,\n",
    "    trigger_types = trigger_types,\n",
    "    trigger_notes = trigger_notes,\n",
    "    timekeys = ['timestamps'],\n",
    "    domain = 'auto'\n",
    ")\n",
    "with h5py.File(\"triggers.h5\", \"w\") as f:\n",
    "    triggers.to_hdf5(f)\n",
    "print(\"triggers = \", triggers)"
   ]
  },
  {
   "cell_type": "code",
   "execution_count": null,
   "id": "3428e078",
   "metadata": {},
   "outputs": [],
   "source": []
  }
 ],
 "metadata": {
  "kernelspec": {
   "display_name": "base",
   "language": "python",
   "name": "python3"
  },
  "language_info": {
   "codemirror_mode": {
    "name": "ipython",
    "version": 3
   },
   "file_extension": ".py",
   "mimetype": "text/x-python",
   "name": "python",
   "nbconvert_exporter": "python",
   "pygments_lexer": "ipython3",
   "version": "3.13.5"
  }
 },
 "nbformat": 4,
 "nbformat_minor": 5
}
